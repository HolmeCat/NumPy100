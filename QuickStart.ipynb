{
 "cells": [
  {
   "cell_type": "markdown",
   "source": [
    "## NumPy-100 中文启动版\r\n",
    "\r\n",
    "请按照如下操作进行使用和答题\r\n",
    "\r\n",
    "运行下方代码块当中的内容载入支持模块"
   ],
   "metadata": {}
  },
  {
   "cell_type": "code",
   "execution_count": null,
   "source": [
    "import generators as ge"
   ],
   "outputs": [],
   "metadata": {}
  },
  {
   "cell_type": "markdown",
   "source": [
    "生成全版题库进行练习\r\n",
    "\r\n",
    "根据参数选择是显示答案版还是运行答案结果版"
   ],
   "metadata": {}
  },
  {
   "cell_type": "code",
   "execution_count": null,
   "source": [
    "ge.create_jupyter_notebook(\"100_NumpyExercises.ipynb\", 0) # 这个是做题可查答案版"
   ],
   "outputs": [],
   "metadata": {}
  },
  {
   "cell_type": "code",
   "execution_count": null,
   "source": [
    "ge.create_jupyter_notebook(\"100_AnswerVersion.ipynb\", 1) # 这个是运行答案结果版"
   ],
   "outputs": [],
   "metadata": {}
  },
  {
   "cell_type": "markdown",
   "source": [
    "运行完毕后观察文件夹下有没有生成一个ipynb文件\r\n",
    "\r\n",
    "打开进入既可用于答题，提示和对答案的方法文件当中有写"
   ],
   "metadata": {}
  },
  {
   "cell_type": "markdown",
   "source": [
    "## 快速随机练习区\r\n",
    "\r\n",
    "运行下方代码块内容，可以随机获得一道题进行练习"
   ],
   "metadata": {}
  },
  {
   "cell_type": "code",
   "execution_count": null,
   "source": [
    "id = ge.pick()"
   ],
   "outputs": [],
   "metadata": {}
  },
  {
   "cell_type": "markdown",
   "source": [
    "然后运行hints设置题号来获得提示"
   ],
   "metadata": {}
  },
  {
   "cell_type": "code",
   "execution_count": null,
   "source": [
    "ge.hint(id)"
   ],
   "outputs": [],
   "metadata": {}
  },
  {
   "cell_type": "markdown",
   "source": [
    "运行answer来获得答案"
   ],
   "metadata": {}
  },
  {
   "cell_type": "code",
   "execution_count": null,
   "source": [
    "ge.answer(id)"
   ],
   "outputs": [],
   "metadata": {}
  },
  {
   "cell_type": "markdown",
   "source": [
    "代码类题目实际的运行结果可以自行复制答案进行对拍"
   ],
   "metadata": {}
  }
 ],
 "metadata": {
  "orig_nbformat": 4,
  "language_info": {
   "name": "python",
   "version": "3.9.5",
   "mimetype": "text/x-python",
   "codemirror_mode": {
    "name": "ipython",
    "version": 3
   },
   "pygments_lexer": "ipython3",
   "nbconvert_exporter": "python",
   "file_extension": ".py"
  },
  "kernelspec": {
   "name": "python3",
   "display_name": "Python 3.9.5 64-bit"
  },
  "interpreter": {
   "hash": "c5da4bace0f87b15465a55fdda63b91cf9b63b79a6bf62122d0cc6c0db4b00ca"
  }
 },
 "nbformat": 4,
 "nbformat_minor": 2
}