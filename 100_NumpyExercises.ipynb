{
 "cells": [
  {
   "cell_type": "markdown",
   "id": "a1551024",
   "metadata": {},
   "source": [
    "# 100 numpy exercises\n",
    "\n",
    "This is a collection of exercises that have been collected in the numpy mailing list, on stack overflow\n",
    "and in the numpy documentation. The goal of this collection is to offer a quick reference for both old\n",
    "and new users but also to provide a set of exercises for those who teach.\n",
    "\n",
    "这是100道NumPy题目的自改版，将做题结构改成了类似于Kaggle那样的方便查hint和answer的布局"
   ]
  },
  {
   "cell_type": "markdown",
   "id": "414ffacc",
   "metadata": {},
   "source": [
    "请先运行下方的第一块代码载入支持模块，然后开始练习"
   ]
  },
  {
   "cell_type": "markdown",
   "id": "3d89967b",
   "metadata": {},
   "source": [
    "For each question you can query the answer or an hint with `hint(n)` or `answer(n)` for `n` question number."
   ]
  },
  {
   "cell_type": "code",
   "execution_count": null,
   "id": "8f1244e6",
   "metadata": {},
   "outputs": [],
   "source": [
    "import generators as ge"
   ]
  },
  {
   "cell_type": "markdown",
   "id": "1b0c9cdd",
   "metadata": {},
   "source": [
    "### 1. Import the numpy package under the name `np` (★☆☆)"
   ]
  },
  {
   "cell_type": "code",
   "execution_count": null,
   "id": "0bf70ef2",
   "metadata": {},
   "outputs": [],
   "source": [
    "ge.hint(1)"
   ]
  },
  {
   "cell_type": "code",
   "execution_count": null,
   "id": "fc142be3",
   "metadata": {},
   "outputs": [],
   "source": []
  },
  {
   "cell_type": "code",
   "execution_count": null,
   "id": "153ea45f",
   "metadata": {},
   "outputs": [],
   "source": [
    "ge.answer(1)"
   ]
  },
  {
   "cell_type": "markdown",
   "id": "54191f02",
   "metadata": {},
   "source": [
    "### 2. Print the numpy version and the configuration (★☆☆)"
   ]
  },
  {
   "cell_type": "code",
   "execution_count": null,
   "id": "ea77a207",
   "metadata": {},
   "outputs": [],
   "source": [
    "ge.hint(2)"
   ]
  },
  {
   "cell_type": "code",
   "execution_count": null,
   "id": "9216a69d",
   "metadata": {},
   "outputs": [],
   "source": []
  },
  {
   "cell_type": "code",
   "execution_count": null,
   "id": "101c571a",
   "metadata": {},
   "outputs": [],
   "source": [
    "ge.answer(2)"
   ]
  },
  {
   "cell_type": "markdown",
   "id": "4874c601",
   "metadata": {},
   "source": [
    "### 3. Create a null vector of size 10 (★☆☆)"
   ]
  },
  {
   "cell_type": "code",
   "execution_count": null,
   "id": "a501cc60",
   "metadata": {},
   "outputs": [],
   "source": [
    "ge.hint(3)"
   ]
  },
  {
   "cell_type": "code",
   "execution_count": null,
   "id": "cbabcec0",
   "metadata": {},
   "outputs": [],
   "source": []
  },
  {
   "cell_type": "code",
   "execution_count": null,
   "id": "bd055a67",
   "metadata": {},
   "outputs": [],
   "source": [
    "ge.answer(3)"
   ]
  },
  {
   "cell_type": "markdown",
   "id": "95921b86",
   "metadata": {},
   "source": [
    "### 4. How to find the memory size of any array (★☆☆)"
   ]
  },
  {
   "cell_type": "code",
   "execution_count": null,
   "id": "9b911273",
   "metadata": {},
   "outputs": [],
   "source": [
    "ge.hint(4)"
   ]
  },
  {
   "cell_type": "code",
   "execution_count": null,
   "id": "a9187131",
   "metadata": {},
   "outputs": [],
   "source": []
  },
  {
   "cell_type": "code",
   "execution_count": null,
   "id": "8e932f06",
   "metadata": {},
   "outputs": [],
   "source": [
    "ge.answer(4)"
   ]
  },
  {
   "cell_type": "markdown",
   "id": "c9031dcb",
   "metadata": {},
   "source": [
    "### 5. How to get the documentation of the numpy add function from the command line? (★☆☆)"
   ]
  },
  {
   "cell_type": "code",
   "execution_count": null,
   "id": "f7428867",
   "metadata": {},
   "outputs": [],
   "source": [
    "ge.hint(5)"
   ]
  },
  {
   "cell_type": "code",
   "execution_count": null,
   "id": "dd7b56af",
   "metadata": {},
   "outputs": [],
   "source": []
  },
  {
   "cell_type": "code",
   "execution_count": null,
   "id": "c743416c",
   "metadata": {},
   "outputs": [],
   "source": [
    "ge.answer(5)"
   ]
  },
  {
   "cell_type": "markdown",
   "id": "097a5dc9",
   "metadata": {},
   "source": [
    "### 6. Create a null vector of size 10 but the fifth value which is 1 (★☆☆)"
   ]
  },
  {
   "cell_type": "code",
   "execution_count": null,
   "id": "8a39e18e",
   "metadata": {},
   "outputs": [],
   "source": [
    "ge.hint(6)"
   ]
  },
  {
   "cell_type": "code",
   "execution_count": null,
   "id": "db6f92f1",
   "metadata": {},
   "outputs": [],
   "source": []
  },
  {
   "cell_type": "code",
   "execution_count": null,
   "id": "d9c4afd0",
   "metadata": {},
   "outputs": [],
   "source": [
    "ge.answer(6)"
   ]
  },
  {
   "cell_type": "markdown",
   "id": "ea8b1c16",
   "metadata": {},
   "source": [
    "### 7. Create a vector with values ranging from 10 to 49 (★☆☆)"
   ]
  },
  {
   "cell_type": "code",
   "execution_count": null,
   "id": "8881e731",
   "metadata": {},
   "outputs": [],
   "source": [
    "ge.hint(7)"
   ]
  },
  {
   "cell_type": "code",
   "execution_count": null,
   "id": "e73fef3c",
   "metadata": {},
   "outputs": [],
   "source": []
  },
  {
   "cell_type": "code",
   "execution_count": null,
   "id": "1910d057",
   "metadata": {},
   "outputs": [],
   "source": [
    "ge.answer(7)"
   ]
  },
  {
   "cell_type": "markdown",
   "id": "89ddba28",
   "metadata": {},
   "source": [
    "### 8. Reverse a vector (first element becomes last) (★☆☆)"
   ]
  },
  {
   "cell_type": "code",
   "execution_count": null,
   "id": "9b1a4e7a",
   "metadata": {},
   "outputs": [],
   "source": [
    "ge.hint(8)"
   ]
  },
  {
   "cell_type": "code",
   "execution_count": null,
   "id": "b511b4d1",
   "metadata": {},
   "outputs": [],
   "source": []
  },
  {
   "cell_type": "code",
   "execution_count": null,
   "id": "8f93fe48",
   "metadata": {},
   "outputs": [],
   "source": [
    "ge.answer(8)"
   ]
  },
  {
   "cell_type": "markdown",
   "id": "e95f40b4",
   "metadata": {},
   "source": [
    "### 9. Create a 3x3 matrix with values ranging from 0 to 8 (★☆☆)"
   ]
  },
  {
   "cell_type": "code",
   "execution_count": null,
   "id": "3f35c19d",
   "metadata": {},
   "outputs": [],
   "source": [
    "ge.hint(9)"
   ]
  },
  {
   "cell_type": "code",
   "execution_count": null,
   "id": "4b43de2a",
   "metadata": {},
   "outputs": [],
   "source": []
  },
  {
   "cell_type": "code",
   "execution_count": null,
   "id": "32f7ef26",
   "metadata": {},
   "outputs": [],
   "source": [
    "ge.answer(9)"
   ]
  },
  {
   "cell_type": "markdown",
   "id": "3460c5b9",
   "metadata": {},
   "source": [
    "### 10. Find indices of non-zero elements from [1,2,0,0,4,0] (★☆☆)"
   ]
  },
  {
   "cell_type": "code",
   "execution_count": null,
   "id": "c06239d5",
   "metadata": {},
   "outputs": [],
   "source": [
    "ge.hint(10)"
   ]
  },
  {
   "cell_type": "code",
   "execution_count": null,
   "id": "647e2f6c",
   "metadata": {},
   "outputs": [],
   "source": []
  },
  {
   "cell_type": "code",
   "execution_count": null,
   "id": "30240f26",
   "metadata": {},
   "outputs": [],
   "source": [
    "ge.answer(10)"
   ]
  },
  {
   "cell_type": "markdown",
   "id": "04667273",
   "metadata": {},
   "source": [
    "### 11. Create a 3x3 identity matrix (★☆☆)"
   ]
  },
  {
   "cell_type": "code",
   "execution_count": null,
   "id": "95a027d0",
   "metadata": {},
   "outputs": [],
   "source": [
    "ge.hint(11)"
   ]
  },
  {
   "cell_type": "code",
   "execution_count": null,
   "id": "ed2f277f",
   "metadata": {},
   "outputs": [],
   "source": []
  },
  {
   "cell_type": "code",
   "execution_count": null,
   "id": "ef84b17d",
   "metadata": {},
   "outputs": [],
   "source": [
    "ge.answer(11)"
   ]
  },
  {
   "cell_type": "markdown",
   "id": "25d3c177",
   "metadata": {},
   "source": [
    "### 12. Create a 3x3x3 array with random values (★☆☆)"
   ]
  },
  {
   "cell_type": "code",
   "execution_count": null,
   "id": "3b6fdb48",
   "metadata": {},
   "outputs": [],
   "source": [
    "ge.hint(12)"
   ]
  },
  {
   "cell_type": "code",
   "execution_count": null,
   "id": "51fbc1d3",
   "metadata": {},
   "outputs": [],
   "source": []
  },
  {
   "cell_type": "code",
   "execution_count": null,
   "id": "3f46283e",
   "metadata": {},
   "outputs": [],
   "source": [
    "ge.answer(12)"
   ]
  },
  {
   "cell_type": "markdown",
   "id": "a0f218f4",
   "metadata": {},
   "source": [
    "### 13. Create a 10x10 array with random values and find the minimum and maximum values (★☆☆)"
   ]
  },
  {
   "cell_type": "code",
   "execution_count": null,
   "id": "860d4792",
   "metadata": {},
   "outputs": [],
   "source": [
    "ge.hint(13)"
   ]
  },
  {
   "cell_type": "code",
   "execution_count": null,
   "id": "7c9f4282",
   "metadata": {},
   "outputs": [],
   "source": []
  },
  {
   "cell_type": "code",
   "execution_count": null,
   "id": "8289ca2d",
   "metadata": {},
   "outputs": [],
   "source": [
    "ge.answer(13)"
   ]
  },
  {
   "cell_type": "markdown",
   "id": "930db4e8",
   "metadata": {},
   "source": [
    "### 14. Create a random vector of size 30 and find the mean value (★☆☆)"
   ]
  },
  {
   "cell_type": "code",
   "execution_count": null,
   "id": "60f858a0",
   "metadata": {},
   "outputs": [],
   "source": [
    "ge.hint(14)"
   ]
  },
  {
   "cell_type": "code",
   "execution_count": null,
   "id": "e8923c84",
   "metadata": {},
   "outputs": [],
   "source": []
  },
  {
   "cell_type": "code",
   "execution_count": null,
   "id": "1c44f81d",
   "metadata": {},
   "outputs": [],
   "source": [
    "ge.answer(14)"
   ]
  },
  {
   "cell_type": "markdown",
   "id": "ef94f9d8",
   "metadata": {},
   "source": [
    "### 15. Create a 2d array with 1 on the border and 0 inside (★☆☆)"
   ]
  },
  {
   "cell_type": "code",
   "execution_count": null,
   "id": "8adbe84d",
   "metadata": {},
   "outputs": [],
   "source": [
    "ge.hint(15)"
   ]
  },
  {
   "cell_type": "code",
   "execution_count": null,
   "id": "f649faad",
   "metadata": {},
   "outputs": [],
   "source": []
  },
  {
   "cell_type": "code",
   "execution_count": null,
   "id": "571728e7",
   "metadata": {},
   "outputs": [],
   "source": [
    "ge.answer(15)"
   ]
  },
  {
   "cell_type": "markdown",
   "id": "b963536f",
   "metadata": {},
   "source": [
    "### 16. How to add a border (filled with 0's) around an existing array? (★☆☆)"
   ]
  },
  {
   "cell_type": "code",
   "execution_count": null,
   "id": "26d5ee2d",
   "metadata": {},
   "outputs": [],
   "source": [
    "ge.hint(16)"
   ]
  },
  {
   "cell_type": "code",
   "execution_count": null,
   "id": "830ae0b0",
   "metadata": {},
   "outputs": [],
   "source": []
  },
  {
   "cell_type": "code",
   "execution_count": null,
   "id": "d490544e",
   "metadata": {},
   "outputs": [],
   "source": [
    "ge.answer(16)"
   ]
  },
  {
   "cell_type": "markdown",
   "id": "a2b7b829",
   "metadata": {},
   "source": [
    "### 17. What is the result of the following expression? (★☆☆)\n",
    "```python\n",
    "0 * np.nan\n",
    "np.nan == np.nan\n",
    "np.inf > np.nan\n",
    "np.nan - np.nan\n",
    "np.nan in set([np.nan])\n",
    "0.3 == 3 * 0.1\n",
    "```"
   ]
  },
  {
   "cell_type": "code",
   "execution_count": null,
   "id": "019d78c3",
   "metadata": {},
   "outputs": [],
   "source": [
    "ge.hint(17)"
   ]
  },
  {
   "cell_type": "code",
   "execution_count": null,
   "id": "99617d31",
   "metadata": {},
   "outputs": [],
   "source": []
  },
  {
   "cell_type": "code",
   "execution_count": null,
   "id": "1ded87ff",
   "metadata": {},
   "outputs": [],
   "source": [
    "ge.answer(17)"
   ]
  },
  {
   "cell_type": "markdown",
   "id": "f118fb0d",
   "metadata": {},
   "source": [
    "### 18. Create a 5x5 matrix with values 1,2,3,4 just below the diagonal (★☆☆)"
   ]
  },
  {
   "cell_type": "code",
   "execution_count": null,
   "id": "5016fb17",
   "metadata": {},
   "outputs": [],
   "source": [
    "ge.hint(18)"
   ]
  },
  {
   "cell_type": "code",
   "execution_count": null,
   "id": "8bac040b",
   "metadata": {},
   "outputs": [],
   "source": []
  },
  {
   "cell_type": "code",
   "execution_count": null,
   "id": "8216e992",
   "metadata": {},
   "outputs": [],
   "source": [
    "ge.answer(18)"
   ]
  },
  {
   "cell_type": "markdown",
   "id": "77215f45",
   "metadata": {},
   "source": [
    "### 19. Create a 8x8 matrix and fill it with a checkerboard pattern (★☆☆)"
   ]
  },
  {
   "cell_type": "code",
   "execution_count": null,
   "id": "6624d17c",
   "metadata": {},
   "outputs": [],
   "source": [
    "ge.hint(19)"
   ]
  },
  {
   "cell_type": "code",
   "execution_count": null,
   "id": "4b6bbbe7",
   "metadata": {},
   "outputs": [],
   "source": []
  },
  {
   "cell_type": "code",
   "execution_count": null,
   "id": "5ccbb8d7",
   "metadata": {},
   "outputs": [],
   "source": [
    "ge.answer(19)"
   ]
  },
  {
   "cell_type": "markdown",
   "id": "d4deee4b",
   "metadata": {},
   "source": [
    "### 20. Consider a (6,7,8) shape array, what is the index (x,y,z) of the 100th element? (★☆☆)"
   ]
  },
  {
   "cell_type": "code",
   "execution_count": null,
   "id": "baf1ef36",
   "metadata": {},
   "outputs": [],
   "source": [
    "ge.hint(20)"
   ]
  },
  {
   "cell_type": "code",
   "execution_count": null,
   "id": "44634349",
   "metadata": {},
   "outputs": [],
   "source": []
  },
  {
   "cell_type": "code",
   "execution_count": null,
   "id": "b95d8f88",
   "metadata": {},
   "outputs": [],
   "source": [
    "ge.answer(20)"
   ]
  },
  {
   "cell_type": "markdown",
   "id": "609a3e1f",
   "metadata": {},
   "source": [
    "### 21. Create a checkerboard 8x8 matrix using the tile function (★☆☆)"
   ]
  },
  {
   "cell_type": "code",
   "execution_count": null,
   "id": "4cfa7899",
   "metadata": {},
   "outputs": [],
   "source": [
    "ge.hint(21)"
   ]
  },
  {
   "cell_type": "code",
   "execution_count": null,
   "id": "2d4e8b6d",
   "metadata": {},
   "outputs": [],
   "source": []
  },
  {
   "cell_type": "code",
   "execution_count": null,
   "id": "2e7ce260",
   "metadata": {},
   "outputs": [],
   "source": [
    "ge.answer(21)"
   ]
  },
  {
   "cell_type": "markdown",
   "id": "9cef64fc",
   "metadata": {},
   "source": [
    "### 22. Normalize a 5x5 random matrix (★☆☆)"
   ]
  },
  {
   "cell_type": "code",
   "execution_count": null,
   "id": "102eccbd",
   "metadata": {},
   "outputs": [],
   "source": [
    "ge.hint(22)"
   ]
  },
  {
   "cell_type": "code",
   "execution_count": null,
   "id": "3f4e6090",
   "metadata": {},
   "outputs": [],
   "source": []
  },
  {
   "cell_type": "code",
   "execution_count": null,
   "id": "101c63fa",
   "metadata": {},
   "outputs": [],
   "source": [
    "ge.answer(22)"
   ]
  },
  {
   "cell_type": "markdown",
   "id": "6b9343a0",
   "metadata": {},
   "source": [
    "### 23. Create a custom dtype that describes a color as four unsigned bytes (RGBA) (★☆☆)"
   ]
  },
  {
   "cell_type": "code",
   "execution_count": null,
   "id": "7fc04dd7",
   "metadata": {},
   "outputs": [],
   "source": [
    "ge.hint(23)"
   ]
  },
  {
   "cell_type": "code",
   "execution_count": null,
   "id": "9fe7aeba",
   "metadata": {},
   "outputs": [],
   "source": []
  },
  {
   "cell_type": "code",
   "execution_count": null,
   "id": "bd18b01b",
   "metadata": {},
   "outputs": [],
   "source": [
    "ge.answer(23)"
   ]
  },
  {
   "cell_type": "markdown",
   "id": "abfd1793",
   "metadata": {},
   "source": [
    "### 24. Multiply a 5x3 matrix by a 3x2 matrix (real matrix product) (★☆☆)"
   ]
  },
  {
   "cell_type": "code",
   "execution_count": null,
   "id": "67c3ba13",
   "metadata": {},
   "outputs": [],
   "source": [
    "ge.hint(24)"
   ]
  },
  {
   "cell_type": "code",
   "execution_count": null,
   "id": "e28415f4",
   "metadata": {},
   "outputs": [],
   "source": []
  },
  {
   "cell_type": "code",
   "execution_count": null,
   "id": "7f832dda",
   "metadata": {},
   "outputs": [],
   "source": [
    "ge.answer(24)"
   ]
  },
  {
   "cell_type": "markdown",
   "id": "84e1e44a",
   "metadata": {},
   "source": [
    "### 25. Given a 1D array, negate all elements which are between 3 and 8, in place. (★☆☆)"
   ]
  },
  {
   "cell_type": "code",
   "execution_count": null,
   "id": "b4d7dd22",
   "metadata": {},
   "outputs": [],
   "source": [
    "ge.hint(25)"
   ]
  },
  {
   "cell_type": "code",
   "execution_count": null,
   "id": "4150d369",
   "metadata": {},
   "outputs": [],
   "source": []
  },
  {
   "cell_type": "code",
   "execution_count": null,
   "id": "5698180a",
   "metadata": {},
   "outputs": [],
   "source": [
    "ge.answer(25)"
   ]
  },
  {
   "cell_type": "markdown",
   "id": "6d9e1f04",
   "metadata": {},
   "source": [
    "### 26. What is the output of the following script? (★☆☆)\n",
    "```python\n",
    "# Author: Jake VanderPlas\n",
    "\n",
    "print(sum(range(5),-1))\n",
    "from numpy import *\n",
    "print(sum(range(5),-1))\n",
    "```"
   ]
  },
  {
   "cell_type": "code",
   "execution_count": null,
   "id": "815bc3d1",
   "metadata": {},
   "outputs": [],
   "source": [
    "ge.hint(26)"
   ]
  },
  {
   "cell_type": "code",
   "execution_count": null,
   "id": "dd81507b",
   "metadata": {},
   "outputs": [],
   "source": []
  },
  {
   "cell_type": "code",
   "execution_count": null,
   "id": "d174e97b",
   "metadata": {},
   "outputs": [],
   "source": [
    "ge.answer(26)"
   ]
  },
  {
   "cell_type": "markdown",
   "id": "76a61c1d",
   "metadata": {},
   "source": [
    "### 27. Consider an integer vector Z, which of these expressions are legal? (★☆☆)\n",
    "```python\n",
    "Z**Z\n",
    "2 << Z >> 2\n",
    "Z <- Z\n",
    "1j*Z\n",
    "Z/1/1\n",
    "Z<Z>Z\n",
    "```"
   ]
  },
  {
   "cell_type": "code",
   "execution_count": null,
   "id": "638b1ac2",
   "metadata": {},
   "outputs": [],
   "source": [
    "ge.hint(27)"
   ]
  },
  {
   "cell_type": "code",
   "execution_count": null,
   "id": "c0d31370",
   "metadata": {},
   "outputs": [],
   "source": []
  },
  {
   "cell_type": "code",
   "execution_count": null,
   "id": "9736e525",
   "metadata": {},
   "outputs": [],
   "source": [
    "ge.answer(27)"
   ]
  },
  {
   "cell_type": "markdown",
   "id": "55f2f244",
   "metadata": {},
   "source": [
    "### 28. What are the result of the following expressions? (★☆☆)\n",
    "```python\n",
    "np.array(0) / np.array(0)\n",
    "np.array(0) // np.array(0)\n",
    "np.array([np.nan]).astype(int).astype(float)\n",
    "```"
   ]
  },
  {
   "cell_type": "code",
   "execution_count": null,
   "id": "e60b2905",
   "metadata": {},
   "outputs": [],
   "source": [
    "ge.hint(28)"
   ]
  },
  {
   "cell_type": "code",
   "execution_count": null,
   "id": "930c0451",
   "metadata": {},
   "outputs": [],
   "source": []
  },
  {
   "cell_type": "code",
   "execution_count": null,
   "id": "a7a06bed",
   "metadata": {},
   "outputs": [],
   "source": [
    "ge.answer(28)"
   ]
  },
  {
   "cell_type": "markdown",
   "id": "dc304bd3",
   "metadata": {},
   "source": [
    "### 29. How to round away from zero a float array ? (★☆☆)"
   ]
  },
  {
   "cell_type": "code",
   "execution_count": null,
   "id": "caab8e9e",
   "metadata": {},
   "outputs": [],
   "source": [
    "ge.hint(29)"
   ]
  },
  {
   "cell_type": "code",
   "execution_count": null,
   "id": "449e8cdb",
   "metadata": {},
   "outputs": [],
   "source": []
  },
  {
   "cell_type": "code",
   "execution_count": null,
   "id": "c6852a5a",
   "metadata": {},
   "outputs": [],
   "source": [
    "ge.answer(29)"
   ]
  },
  {
   "cell_type": "markdown",
   "id": "9abbef44",
   "metadata": {},
   "source": [
    "### 30. How to find common values between two arrays? (★☆☆)"
   ]
  },
  {
   "cell_type": "code",
   "execution_count": null,
   "id": "30fec7e0",
   "metadata": {},
   "outputs": [],
   "source": [
    "ge.hint(30)"
   ]
  },
  {
   "cell_type": "code",
   "execution_count": null,
   "id": "ee79c260",
   "metadata": {},
   "outputs": [],
   "source": []
  },
  {
   "cell_type": "code",
   "execution_count": null,
   "id": "482d6582",
   "metadata": {},
   "outputs": [],
   "source": [
    "ge.answer(30)"
   ]
  },
  {
   "cell_type": "markdown",
   "id": "f9c678ac",
   "metadata": {},
   "source": [
    "### 31. How to ignore all numpy warnings (not recommended)? (★☆☆)"
   ]
  },
  {
   "cell_type": "code",
   "execution_count": null,
   "id": "fb0e632e",
   "metadata": {},
   "outputs": [],
   "source": [
    "ge.hint(31)"
   ]
  },
  {
   "cell_type": "code",
   "execution_count": null,
   "id": "187fb664",
   "metadata": {},
   "outputs": [],
   "source": []
  },
  {
   "cell_type": "code",
   "execution_count": null,
   "id": "2d4ab28e",
   "metadata": {},
   "outputs": [],
   "source": [
    "ge.answer(31)"
   ]
  },
  {
   "cell_type": "markdown",
   "id": "3b90f87d",
   "metadata": {},
   "source": [
    "### 32. Is the following expressions true? (★☆☆)\n",
    "```python\n",
    "np.sqrt(-1) == np.emath.sqrt(-1)\n",
    "```"
   ]
  },
  {
   "cell_type": "code",
   "execution_count": null,
   "id": "71998d34",
   "metadata": {},
   "outputs": [],
   "source": [
    "ge.hint(32)"
   ]
  },
  {
   "cell_type": "code",
   "execution_count": null,
   "id": "0fe3c30a",
   "metadata": {},
   "outputs": [],
   "source": []
  },
  {
   "cell_type": "code",
   "execution_count": null,
   "id": "3fd7aed0",
   "metadata": {},
   "outputs": [],
   "source": [
    "ge.answer(32)"
   ]
  },
  {
   "cell_type": "markdown",
   "id": "81ff9665",
   "metadata": {},
   "source": [
    "### 33. How to get the dates of yesterday, today and tomorrow? (★☆☆)"
   ]
  },
  {
   "cell_type": "code",
   "execution_count": null,
   "id": "781fbb42",
   "metadata": {},
   "outputs": [],
   "source": [
    "ge.hint(33)"
   ]
  },
  {
   "cell_type": "code",
   "execution_count": null,
   "id": "6763d28c",
   "metadata": {},
   "outputs": [],
   "source": []
  },
  {
   "cell_type": "code",
   "execution_count": null,
   "id": "2e651b6a",
   "metadata": {},
   "outputs": [],
   "source": [
    "ge.answer(33)"
   ]
  },
  {
   "cell_type": "markdown",
   "id": "53b13e51",
   "metadata": {},
   "source": [
    "### 34. How to get all the dates corresponding to the month of July 2016? (★★☆)"
   ]
  },
  {
   "cell_type": "code",
   "execution_count": null,
   "id": "dc89109e",
   "metadata": {},
   "outputs": [],
   "source": [
    "ge.hint(34)"
   ]
  },
  {
   "cell_type": "code",
   "execution_count": null,
   "id": "b69dac7f",
   "metadata": {},
   "outputs": [],
   "source": []
  },
  {
   "cell_type": "code",
   "execution_count": null,
   "id": "e0c06992",
   "metadata": {},
   "outputs": [],
   "source": [
    "ge.answer(34)"
   ]
  },
  {
   "cell_type": "markdown",
   "id": "54861d82",
   "metadata": {},
   "source": [
    "### 35. How to compute ((A+B)*(-A/2)) in place (without copy)? (★★☆)"
   ]
  },
  {
   "cell_type": "code",
   "execution_count": null,
   "id": "1213b430",
   "metadata": {},
   "outputs": [],
   "source": [
    "ge.hint(35)"
   ]
  },
  {
   "cell_type": "code",
   "execution_count": null,
   "id": "1e4b8555",
   "metadata": {},
   "outputs": [],
   "source": []
  },
  {
   "cell_type": "code",
   "execution_count": null,
   "id": "35af93ff",
   "metadata": {},
   "outputs": [],
   "source": [
    "ge.answer(35)"
   ]
  },
  {
   "cell_type": "markdown",
   "id": "38598a91",
   "metadata": {},
   "source": [
    "### 36. Extract the integer part of a random array of positive numbers using 4 different methods (★★☆)"
   ]
  },
  {
   "cell_type": "code",
   "execution_count": null,
   "id": "bbeb849b",
   "metadata": {},
   "outputs": [],
   "source": [
    "ge.hint(36)"
   ]
  },
  {
   "cell_type": "code",
   "execution_count": null,
   "id": "677dcd80",
   "metadata": {},
   "outputs": [],
   "source": []
  },
  {
   "cell_type": "code",
   "execution_count": null,
   "id": "0a37c0f9",
   "metadata": {},
   "outputs": [],
   "source": [
    "ge.answer(36)"
   ]
  },
  {
   "cell_type": "markdown",
   "id": "df810343",
   "metadata": {},
   "source": [
    "### 37. Create a 5x5 matrix with row values ranging from 0 to 4 (★★☆)"
   ]
  },
  {
   "cell_type": "code",
   "execution_count": null,
   "id": "350105a8",
   "metadata": {},
   "outputs": [],
   "source": [
    "ge.hint(37)"
   ]
  },
  {
   "cell_type": "code",
   "execution_count": null,
   "id": "3cb323d9",
   "metadata": {},
   "outputs": [],
   "source": []
  },
  {
   "cell_type": "code",
   "execution_count": null,
   "id": "0e8446da",
   "metadata": {},
   "outputs": [],
   "source": [
    "ge.answer(37)"
   ]
  },
  {
   "cell_type": "markdown",
   "id": "8a17fd36",
   "metadata": {},
   "source": [
    "### 38. Consider a generator function that generates 10 integers and use it to build an array (★☆☆)"
   ]
  },
  {
   "cell_type": "code",
   "execution_count": null,
   "id": "c822360f",
   "metadata": {},
   "outputs": [],
   "source": [
    "ge.hint(38)"
   ]
  },
  {
   "cell_type": "code",
   "execution_count": null,
   "id": "ef47fcfc",
   "metadata": {},
   "outputs": [],
   "source": []
  },
  {
   "cell_type": "code",
   "execution_count": null,
   "id": "5e0cc142",
   "metadata": {},
   "outputs": [],
   "source": [
    "ge.answer(38)"
   ]
  },
  {
   "cell_type": "markdown",
   "id": "98a330fb",
   "metadata": {},
   "source": [
    "### 39. Create a vector of size 10 with values ranging from 0 to 1, both excluded (★★☆)"
   ]
  },
  {
   "cell_type": "code",
   "execution_count": null,
   "id": "f790c8c4",
   "metadata": {},
   "outputs": [],
   "source": [
    "ge.hint(39)"
   ]
  },
  {
   "cell_type": "code",
   "execution_count": null,
   "id": "993f8bf7",
   "metadata": {},
   "outputs": [],
   "source": []
  },
  {
   "cell_type": "code",
   "execution_count": null,
   "id": "1ff4f006",
   "metadata": {},
   "outputs": [],
   "source": [
    "ge.answer(39)"
   ]
  },
  {
   "cell_type": "markdown",
   "id": "7c9aab2e",
   "metadata": {},
   "source": [
    "### 40. Create a random vector of size 10 and sort it (★★☆)"
   ]
  },
  {
   "cell_type": "code",
   "execution_count": null,
   "id": "f2f85850",
   "metadata": {},
   "outputs": [],
   "source": [
    "ge.hint(40)"
   ]
  },
  {
   "cell_type": "code",
   "execution_count": null,
   "id": "b7140f8f",
   "metadata": {},
   "outputs": [],
   "source": []
  },
  {
   "cell_type": "code",
   "execution_count": null,
   "id": "42578094",
   "metadata": {},
   "outputs": [],
   "source": [
    "ge.answer(40)"
   ]
  },
  {
   "cell_type": "markdown",
   "id": "a27a2e46",
   "metadata": {},
   "source": [
    "### 41. How to sum a small array faster than np.sum? (★★☆)"
   ]
  },
  {
   "cell_type": "code",
   "execution_count": null,
   "id": "a56e0840",
   "metadata": {},
   "outputs": [],
   "source": [
    "ge.hint(41)"
   ]
  },
  {
   "cell_type": "code",
   "execution_count": null,
   "id": "1c772faf",
   "metadata": {},
   "outputs": [],
   "source": []
  },
  {
   "cell_type": "code",
   "execution_count": null,
   "id": "b9dbbe3b",
   "metadata": {},
   "outputs": [],
   "source": [
    "ge.answer(41)"
   ]
  },
  {
   "cell_type": "markdown",
   "id": "1b5aa8c3",
   "metadata": {},
   "source": [
    "### 42. Consider two random array A and B, check if they are equal (★★☆)"
   ]
  },
  {
   "cell_type": "code",
   "execution_count": null,
   "id": "0b7e0906",
   "metadata": {},
   "outputs": [],
   "source": [
    "ge.hint(42)"
   ]
  },
  {
   "cell_type": "code",
   "execution_count": null,
   "id": "a4c476f2",
   "metadata": {},
   "outputs": [],
   "source": []
  },
  {
   "cell_type": "code",
   "execution_count": null,
   "id": "79cecd5e",
   "metadata": {},
   "outputs": [],
   "source": [
    "ge.answer(42)"
   ]
  },
  {
   "cell_type": "markdown",
   "id": "e580bc08",
   "metadata": {},
   "source": [
    "### 43. Make an array immutable (read-only) (★★☆)"
   ]
  },
  {
   "cell_type": "code",
   "execution_count": null,
   "id": "7996ca24",
   "metadata": {},
   "outputs": [],
   "source": [
    "ge.hint(43)"
   ]
  },
  {
   "cell_type": "code",
   "execution_count": null,
   "id": "73ec0595",
   "metadata": {},
   "outputs": [],
   "source": []
  },
  {
   "cell_type": "code",
   "execution_count": null,
   "id": "5a78c965",
   "metadata": {},
   "outputs": [],
   "source": [
    "ge.answer(43)"
   ]
  },
  {
   "cell_type": "markdown",
   "id": "700ee954",
   "metadata": {},
   "source": [
    "### 44. Consider a random 10x2 matrix representing cartesian coordinates, convert them to polar coordinates (★★☆)"
   ]
  },
  {
   "cell_type": "code",
   "execution_count": null,
   "id": "12cfda47",
   "metadata": {},
   "outputs": [],
   "source": [
    "ge.hint(44)"
   ]
  },
  {
   "cell_type": "code",
   "execution_count": null,
   "id": "e77535a4",
   "metadata": {},
   "outputs": [],
   "source": []
  },
  {
   "cell_type": "code",
   "execution_count": null,
   "id": "63e5d4c4",
   "metadata": {},
   "outputs": [],
   "source": [
    "ge.answer(44)"
   ]
  },
  {
   "cell_type": "markdown",
   "id": "1d8ae595",
   "metadata": {},
   "source": [
    "### 45. Create random vector of size 10 and replace the maximum value by 0 (★★☆)"
   ]
  },
  {
   "cell_type": "code",
   "execution_count": null,
   "id": "f334eb43",
   "metadata": {},
   "outputs": [],
   "source": [
    "ge.hint(45)"
   ]
  },
  {
   "cell_type": "code",
   "execution_count": null,
   "id": "855ae3df",
   "metadata": {},
   "outputs": [],
   "source": []
  },
  {
   "cell_type": "code",
   "execution_count": null,
   "id": "2b2c9b6f",
   "metadata": {},
   "outputs": [],
   "source": [
    "ge.answer(45)"
   ]
  },
  {
   "cell_type": "markdown",
   "id": "08965527",
   "metadata": {},
   "source": [
    "### 46. Create a structured array with `x` and `y` coordinates covering the [0,1]x[0,1] area (★★☆)"
   ]
  },
  {
   "cell_type": "code",
   "execution_count": null,
   "id": "ac2e189b",
   "metadata": {},
   "outputs": [],
   "source": [
    "ge.hint(46)"
   ]
  },
  {
   "cell_type": "code",
   "execution_count": null,
   "id": "12e54631",
   "metadata": {},
   "outputs": [],
   "source": []
  },
  {
   "cell_type": "code",
   "execution_count": null,
   "id": "879f7827",
   "metadata": {},
   "outputs": [],
   "source": [
    "ge.answer(46)"
   ]
  },
  {
   "cell_type": "markdown",
   "id": "8190ff6c",
   "metadata": {},
   "source": [
    "### 47. Given two arrays, X and Y, construct the Cauchy matrix C (Cij =1/(xi - yj)) (★★☆)"
   ]
  },
  {
   "cell_type": "code",
   "execution_count": null,
   "id": "0df01805",
   "metadata": {},
   "outputs": [],
   "source": [
    "ge.hint(47)"
   ]
  },
  {
   "cell_type": "code",
   "execution_count": null,
   "id": "712406ca",
   "metadata": {},
   "outputs": [],
   "source": []
  },
  {
   "cell_type": "code",
   "execution_count": null,
   "id": "bc4a3d1d",
   "metadata": {},
   "outputs": [],
   "source": [
    "ge.answer(47)"
   ]
  },
  {
   "cell_type": "markdown",
   "id": "996b211e",
   "metadata": {},
   "source": [
    "### 48. Print the minimum and maximum representable value for each numpy scalar type (★★☆)"
   ]
  },
  {
   "cell_type": "code",
   "execution_count": null,
   "id": "6b18a7f4",
   "metadata": {},
   "outputs": [],
   "source": [
    "ge.hint(48)"
   ]
  },
  {
   "cell_type": "code",
   "execution_count": null,
   "id": "3a19fe09",
   "metadata": {},
   "outputs": [],
   "source": []
  },
  {
   "cell_type": "code",
   "execution_count": null,
   "id": "0b3f6d16",
   "metadata": {},
   "outputs": [],
   "source": [
    "ge.answer(48)"
   ]
  },
  {
   "cell_type": "markdown",
   "id": "fe92696b",
   "metadata": {},
   "source": [
    "### 49. How to print all the values of an array? (★★☆)"
   ]
  },
  {
   "cell_type": "code",
   "execution_count": null,
   "id": "928416e8",
   "metadata": {},
   "outputs": [],
   "source": [
    "ge.hint(49)"
   ]
  },
  {
   "cell_type": "code",
   "execution_count": null,
   "id": "8b2aaba3",
   "metadata": {},
   "outputs": [],
   "source": []
  },
  {
   "cell_type": "code",
   "execution_count": null,
   "id": "c8f4501b",
   "metadata": {},
   "outputs": [],
   "source": [
    "ge.answer(49)"
   ]
  },
  {
   "cell_type": "markdown",
   "id": "86d92505",
   "metadata": {},
   "source": [
    "### 50. How to find the closest value (to a given scalar) in a vector? (★★☆)"
   ]
  },
  {
   "cell_type": "code",
   "execution_count": null,
   "id": "a4603d33",
   "metadata": {},
   "outputs": [],
   "source": [
    "ge.hint(50)"
   ]
  },
  {
   "cell_type": "code",
   "execution_count": null,
   "id": "977b795c",
   "metadata": {},
   "outputs": [],
   "source": []
  },
  {
   "cell_type": "code",
   "execution_count": null,
   "id": "a4aa0143",
   "metadata": {},
   "outputs": [],
   "source": [
    "ge.answer(50)"
   ]
  },
  {
   "cell_type": "markdown",
   "id": "d82aebf3",
   "metadata": {},
   "source": [
    "### 51. Create a structured array representing a position (x,y) and a color (r,g,b) (★★☆)"
   ]
  },
  {
   "cell_type": "code",
   "execution_count": null,
   "id": "1e077889",
   "metadata": {},
   "outputs": [],
   "source": [
    "ge.hint(51)"
   ]
  },
  {
   "cell_type": "code",
   "execution_count": null,
   "id": "02065e92",
   "metadata": {},
   "outputs": [],
   "source": []
  },
  {
   "cell_type": "code",
   "execution_count": null,
   "id": "501853e7",
   "metadata": {},
   "outputs": [],
   "source": [
    "ge.answer(51)"
   ]
  },
  {
   "cell_type": "markdown",
   "id": "ef6635bd",
   "metadata": {},
   "source": [
    "### 52. Consider a random vector with shape (100,2) representing coordinates, find point by point distances (★★☆)"
   ]
  },
  {
   "cell_type": "code",
   "execution_count": null,
   "id": "7dd8338f",
   "metadata": {},
   "outputs": [],
   "source": [
    "ge.hint(52)"
   ]
  },
  {
   "cell_type": "code",
   "execution_count": null,
   "id": "648adf2f",
   "metadata": {},
   "outputs": [],
   "source": []
  },
  {
   "cell_type": "code",
   "execution_count": null,
   "id": "1e84e4a6",
   "metadata": {},
   "outputs": [],
   "source": [
    "ge.answer(52)"
   ]
  },
  {
   "cell_type": "markdown",
   "id": "348ff968",
   "metadata": {},
   "source": [
    "### 53. How to convert a float (32 bits) array into an integer (32 bits) in place?"
   ]
  },
  {
   "cell_type": "code",
   "execution_count": null,
   "id": "870e6f31",
   "metadata": {},
   "outputs": [],
   "source": [
    "ge.hint(53)"
   ]
  },
  {
   "cell_type": "code",
   "execution_count": null,
   "id": "62e8b047",
   "metadata": {},
   "outputs": [],
   "source": []
  },
  {
   "cell_type": "code",
   "execution_count": null,
   "id": "48983bee",
   "metadata": {},
   "outputs": [],
   "source": [
    "ge.answer(53)"
   ]
  },
  {
   "cell_type": "markdown",
   "id": "f5e07ff8",
   "metadata": {},
   "source": [
    "### 54. How to read the following file? (★★☆)\n",
    "```\n",
    "1, 2, 3, 4, 5\n",
    "6,  ,  , 7, 8\n",
    " ,  , 9,10,11\n",
    "```"
   ]
  },
  {
   "cell_type": "code",
   "execution_count": null,
   "id": "5551c605",
   "metadata": {},
   "outputs": [],
   "source": [
    "ge.hint(54)"
   ]
  },
  {
   "cell_type": "code",
   "execution_count": null,
   "id": "09db61e0",
   "metadata": {},
   "outputs": [],
   "source": []
  },
  {
   "cell_type": "code",
   "execution_count": null,
   "id": "a28a6e40",
   "metadata": {},
   "outputs": [],
   "source": [
    "ge.answer(54)"
   ]
  },
  {
   "cell_type": "markdown",
   "id": "72617721",
   "metadata": {},
   "source": [
    "### 55. What is the equivalent of enumerate for numpy arrays? (★★☆)"
   ]
  },
  {
   "cell_type": "code",
   "execution_count": null,
   "id": "20a8fb46",
   "metadata": {},
   "outputs": [],
   "source": [
    "ge.hint(55)"
   ]
  },
  {
   "cell_type": "code",
   "execution_count": null,
   "id": "23da7800",
   "metadata": {},
   "outputs": [],
   "source": []
  },
  {
   "cell_type": "code",
   "execution_count": null,
   "id": "9088122e",
   "metadata": {},
   "outputs": [],
   "source": [
    "ge.answer(55)"
   ]
  },
  {
   "cell_type": "markdown",
   "id": "ce74d0f1",
   "metadata": {},
   "source": [
    "### 56. Generate a generic 2D Gaussian-like array (★★☆)"
   ]
  },
  {
   "cell_type": "code",
   "execution_count": null,
   "id": "8bea3f12",
   "metadata": {},
   "outputs": [],
   "source": [
    "ge.hint(56)"
   ]
  },
  {
   "cell_type": "code",
   "execution_count": null,
   "id": "c2f23fa4",
   "metadata": {},
   "outputs": [],
   "source": []
  },
  {
   "cell_type": "code",
   "execution_count": null,
   "id": "ed18dc32",
   "metadata": {},
   "outputs": [],
   "source": [
    "ge.answer(56)"
   ]
  },
  {
   "cell_type": "markdown",
   "id": "ce45a5b3",
   "metadata": {},
   "source": [
    "### 57. How to randomly place p elements in a 2D array? (★★☆)"
   ]
  },
  {
   "cell_type": "code",
   "execution_count": null,
   "id": "b752b259",
   "metadata": {},
   "outputs": [],
   "source": [
    "ge.hint(57)"
   ]
  },
  {
   "cell_type": "code",
   "execution_count": null,
   "id": "afb6aa76",
   "metadata": {},
   "outputs": [],
   "source": []
  },
  {
   "cell_type": "code",
   "execution_count": null,
   "id": "c934645c",
   "metadata": {},
   "outputs": [],
   "source": [
    "ge.answer(57)"
   ]
  },
  {
   "cell_type": "markdown",
   "id": "ec5f1cd8",
   "metadata": {},
   "source": [
    "### 58. Subtract the mean of each row of a matrix (★★☆)"
   ]
  },
  {
   "cell_type": "code",
   "execution_count": null,
   "id": "9b9898f4",
   "metadata": {},
   "outputs": [],
   "source": [
    "ge.hint(58)"
   ]
  },
  {
   "cell_type": "code",
   "execution_count": null,
   "id": "74cd7efc",
   "metadata": {},
   "outputs": [],
   "source": []
  },
  {
   "cell_type": "code",
   "execution_count": null,
   "id": "ff121855",
   "metadata": {},
   "outputs": [],
   "source": [
    "ge.answer(58)"
   ]
  },
  {
   "cell_type": "markdown",
   "id": "0a354ed4",
   "metadata": {},
   "source": [
    "### 59. How to sort an array by the nth column? (★★☆)"
   ]
  },
  {
   "cell_type": "code",
   "execution_count": null,
   "id": "31577644",
   "metadata": {},
   "outputs": [],
   "source": [
    "ge.hint(59)"
   ]
  },
  {
   "cell_type": "code",
   "execution_count": null,
   "id": "5020c23b",
   "metadata": {},
   "outputs": [],
   "source": []
  },
  {
   "cell_type": "code",
   "execution_count": null,
   "id": "3b9ff158",
   "metadata": {},
   "outputs": [],
   "source": [
    "ge.answer(59)"
   ]
  },
  {
   "cell_type": "markdown",
   "id": "375b63a4",
   "metadata": {},
   "source": [
    "### 60. How to tell if a given 2D array has null columns? (★★☆)"
   ]
  },
  {
   "cell_type": "code",
   "execution_count": null,
   "id": "5cb85be3",
   "metadata": {},
   "outputs": [],
   "source": [
    "ge.hint(60)"
   ]
  },
  {
   "cell_type": "code",
   "execution_count": null,
   "id": "7c0a8900",
   "metadata": {},
   "outputs": [],
   "source": []
  },
  {
   "cell_type": "code",
   "execution_count": null,
   "id": "320ff7fd",
   "metadata": {},
   "outputs": [],
   "source": [
    "ge.answer(60)"
   ]
  },
  {
   "cell_type": "markdown",
   "id": "63e918b0",
   "metadata": {},
   "source": [
    "### 61. Find the nearest value from a given value in an array (★★☆)"
   ]
  },
  {
   "cell_type": "code",
   "execution_count": null,
   "id": "8e8cf9e4",
   "metadata": {},
   "outputs": [],
   "source": [
    "ge.hint(61)"
   ]
  },
  {
   "cell_type": "code",
   "execution_count": null,
   "id": "499f0cce",
   "metadata": {},
   "outputs": [],
   "source": []
  },
  {
   "cell_type": "code",
   "execution_count": null,
   "id": "5468c0a6",
   "metadata": {},
   "outputs": [],
   "source": [
    "ge.answer(61)"
   ]
  },
  {
   "cell_type": "markdown",
   "id": "47add97e",
   "metadata": {},
   "source": [
    "### 62. Considering two arrays with shape (1,3) and (3,1), how to compute their sum using an iterator? (★★☆)"
   ]
  },
  {
   "cell_type": "code",
   "execution_count": null,
   "id": "e13432cc",
   "metadata": {},
   "outputs": [],
   "source": [
    "ge.hint(62)"
   ]
  },
  {
   "cell_type": "code",
   "execution_count": null,
   "id": "e84a7bf3",
   "metadata": {},
   "outputs": [],
   "source": []
  },
  {
   "cell_type": "code",
   "execution_count": null,
   "id": "46547477",
   "metadata": {},
   "outputs": [],
   "source": [
    "ge.answer(62)"
   ]
  },
  {
   "cell_type": "markdown",
   "id": "20f522d3",
   "metadata": {},
   "source": [
    "### 63. Create an array class that has a name attribute (★★☆)"
   ]
  },
  {
   "cell_type": "code",
   "execution_count": null,
   "id": "54c9ab53",
   "metadata": {},
   "outputs": [],
   "source": [
    "ge.hint(63)"
   ]
  },
  {
   "cell_type": "code",
   "execution_count": null,
   "id": "bfd6d94e",
   "metadata": {},
   "outputs": [],
   "source": []
  },
  {
   "cell_type": "code",
   "execution_count": null,
   "id": "f201c3ae",
   "metadata": {},
   "outputs": [],
   "source": [
    "ge.answer(63)"
   ]
  },
  {
   "cell_type": "markdown",
   "id": "f9dd6068",
   "metadata": {},
   "source": [
    "### 64. Consider a given vector, how to add 1 to each element indexed by a second vector (be careful with repeated indices)? (★★★)"
   ]
  },
  {
   "cell_type": "code",
   "execution_count": null,
   "id": "d0cd1f97",
   "metadata": {},
   "outputs": [],
   "source": [
    "ge.hint(64)"
   ]
  },
  {
   "cell_type": "code",
   "execution_count": null,
   "id": "ddefd693",
   "metadata": {},
   "outputs": [],
   "source": []
  },
  {
   "cell_type": "code",
   "execution_count": null,
   "id": "4774b45b",
   "metadata": {},
   "outputs": [],
   "source": [
    "ge.answer(64)"
   ]
  },
  {
   "cell_type": "markdown",
   "id": "112d34c5",
   "metadata": {},
   "source": [
    "### 65. How to accumulate elements of a vector (X) to an array (F) based on an index list (I)? (★★★)"
   ]
  },
  {
   "cell_type": "code",
   "execution_count": null,
   "id": "7f433b34",
   "metadata": {},
   "outputs": [],
   "source": [
    "ge.hint(65)"
   ]
  },
  {
   "cell_type": "code",
   "execution_count": null,
   "id": "29060194",
   "metadata": {},
   "outputs": [],
   "source": []
  },
  {
   "cell_type": "code",
   "execution_count": null,
   "id": "f4cd0afc",
   "metadata": {},
   "outputs": [],
   "source": [
    "ge.answer(65)"
   ]
  },
  {
   "cell_type": "markdown",
   "id": "f5069933",
   "metadata": {},
   "source": [
    "### 66. Considering a (w,h,3) image of (dtype=ubyte), compute the number of unique colors (★★☆)"
   ]
  },
  {
   "cell_type": "code",
   "execution_count": null,
   "id": "33ca1633",
   "metadata": {},
   "outputs": [],
   "source": [
    "ge.hint(66)"
   ]
  },
  {
   "cell_type": "code",
   "execution_count": null,
   "id": "82e9648f",
   "metadata": {},
   "outputs": [],
   "source": []
  },
  {
   "cell_type": "code",
   "execution_count": null,
   "id": "534d7ae9",
   "metadata": {},
   "outputs": [],
   "source": [
    "ge.answer(66)"
   ]
  },
  {
   "cell_type": "markdown",
   "id": "f9448fb3",
   "metadata": {},
   "source": [
    "### 67. Considering a four dimensions array, how to get sum over the last two axis at once? (★★★)"
   ]
  },
  {
   "cell_type": "code",
   "execution_count": null,
   "id": "0ba28ee8",
   "metadata": {},
   "outputs": [],
   "source": [
    "ge.hint(67)"
   ]
  },
  {
   "cell_type": "code",
   "execution_count": null,
   "id": "8c909520",
   "metadata": {},
   "outputs": [],
   "source": []
  },
  {
   "cell_type": "code",
   "execution_count": null,
   "id": "fb05d28e",
   "metadata": {},
   "outputs": [],
   "source": [
    "ge.answer(67)"
   ]
  },
  {
   "cell_type": "markdown",
   "id": "2a8f9506",
   "metadata": {},
   "source": [
    "### 68. Considering a one-dimensional vector D, how to compute means of subsets of D using a vector S of same size describing subset  indices? (★★★)"
   ]
  },
  {
   "cell_type": "code",
   "execution_count": null,
   "id": "46f8db49",
   "metadata": {},
   "outputs": [],
   "source": [
    "ge.hint(68)"
   ]
  },
  {
   "cell_type": "code",
   "execution_count": null,
   "id": "d371d9bb",
   "metadata": {},
   "outputs": [],
   "source": []
  },
  {
   "cell_type": "code",
   "execution_count": null,
   "id": "f9fcbe0b",
   "metadata": {},
   "outputs": [],
   "source": [
    "ge.answer(68)"
   ]
  },
  {
   "cell_type": "markdown",
   "id": "d89f8e5a",
   "metadata": {},
   "source": [
    "### 69. How to get the diagonal of a dot product? (★★★)"
   ]
  },
  {
   "cell_type": "code",
   "execution_count": null,
   "id": "6f8064c5",
   "metadata": {},
   "outputs": [],
   "source": [
    "ge.hint(69)"
   ]
  },
  {
   "cell_type": "code",
   "execution_count": null,
   "id": "bf683689",
   "metadata": {},
   "outputs": [],
   "source": []
  },
  {
   "cell_type": "code",
   "execution_count": null,
   "id": "8cea9ed4",
   "metadata": {},
   "outputs": [],
   "source": [
    "ge.answer(69)"
   ]
  },
  {
   "cell_type": "markdown",
   "id": "e8ed5b0c",
   "metadata": {},
   "source": [
    "### 70. Consider the vector [1, 2, 3, 4, 5], how to build a new vector with 3 consecutive zeros interleaved between each value? (★★★)"
   ]
  },
  {
   "cell_type": "code",
   "execution_count": null,
   "id": "2fa17473",
   "metadata": {},
   "outputs": [],
   "source": [
    "ge.hint(70)"
   ]
  },
  {
   "cell_type": "code",
   "execution_count": null,
   "id": "a54eaa8c",
   "metadata": {},
   "outputs": [],
   "source": []
  },
  {
   "cell_type": "code",
   "execution_count": null,
   "id": "e4731d18",
   "metadata": {},
   "outputs": [],
   "source": [
    "ge.answer(70)"
   ]
  },
  {
   "cell_type": "markdown",
   "id": "b487a59a",
   "metadata": {},
   "source": [
    "### 71. Consider an array of dimension (5,5,3), how to mulitply it by an array with dimensions (5,5)? (★★★)"
   ]
  },
  {
   "cell_type": "code",
   "execution_count": null,
   "id": "a3b037ac",
   "metadata": {},
   "outputs": [],
   "source": [
    "ge.hint(71)"
   ]
  },
  {
   "cell_type": "code",
   "execution_count": null,
   "id": "6e68d54f",
   "metadata": {},
   "outputs": [],
   "source": []
  },
  {
   "cell_type": "code",
   "execution_count": null,
   "id": "e041e87b",
   "metadata": {},
   "outputs": [],
   "source": [
    "ge.answer(71)"
   ]
  },
  {
   "cell_type": "markdown",
   "id": "acbe91f0",
   "metadata": {},
   "source": [
    "### 72. How to swap two rows of an array? (★★★)"
   ]
  },
  {
   "cell_type": "code",
   "execution_count": null,
   "id": "fe1fcbb5",
   "metadata": {},
   "outputs": [],
   "source": [
    "ge.hint(72)"
   ]
  },
  {
   "cell_type": "code",
   "execution_count": null,
   "id": "e4c3e7ba",
   "metadata": {},
   "outputs": [],
   "source": []
  },
  {
   "cell_type": "code",
   "execution_count": null,
   "id": "ff69b656",
   "metadata": {},
   "outputs": [],
   "source": [
    "ge.answer(72)"
   ]
  },
  {
   "cell_type": "markdown",
   "id": "77922f24",
   "metadata": {},
   "source": [
    "### 73. Consider a set of 10 triplets describing 10 triangles (with shared vertices), find the set of unique line segments composing all the  triangles (★★★)"
   ]
  },
  {
   "cell_type": "code",
   "execution_count": null,
   "id": "1e5e56da",
   "metadata": {},
   "outputs": [],
   "source": [
    "ge.hint(73)"
   ]
  },
  {
   "cell_type": "code",
   "execution_count": null,
   "id": "cc4d2db5",
   "metadata": {},
   "outputs": [],
   "source": []
  },
  {
   "cell_type": "code",
   "execution_count": null,
   "id": "0eaf1109",
   "metadata": {},
   "outputs": [],
   "source": [
    "ge.answer(73)"
   ]
  },
  {
   "cell_type": "markdown",
   "id": "2d2d4dfb",
   "metadata": {},
   "source": [
    "### 74. Given a sorted array C that corresponds to a bincount, how to produce an array A such that np.bincount(A) == C? (★★★)"
   ]
  },
  {
   "cell_type": "code",
   "execution_count": null,
   "id": "93ba7b43",
   "metadata": {},
   "outputs": [],
   "source": [
    "ge.hint(74)"
   ]
  },
  {
   "cell_type": "code",
   "execution_count": null,
   "id": "a2c01530",
   "metadata": {},
   "outputs": [],
   "source": []
  },
  {
   "cell_type": "code",
   "execution_count": null,
   "id": "39fa426e",
   "metadata": {},
   "outputs": [],
   "source": [
    "ge.answer(74)"
   ]
  },
  {
   "cell_type": "markdown",
   "id": "c1797a61",
   "metadata": {},
   "source": [
    "### 75. How to compute averages using a sliding window over an array? (★★★)"
   ]
  },
  {
   "cell_type": "code",
   "execution_count": null,
   "id": "018c33e8",
   "metadata": {},
   "outputs": [],
   "source": [
    "ge.hint(75)"
   ]
  },
  {
   "cell_type": "code",
   "execution_count": null,
   "id": "9cd62cae",
   "metadata": {},
   "outputs": [],
   "source": []
  },
  {
   "cell_type": "code",
   "execution_count": null,
   "id": "f206310a",
   "metadata": {},
   "outputs": [],
   "source": [
    "ge.answer(75)"
   ]
  },
  {
   "cell_type": "markdown",
   "id": "be483b33",
   "metadata": {},
   "source": [
    "### 76. Consider a one-dimensional array Z, build a two-dimensional array whose first row is (Z[0],Z[1],Z[2]) and each subsequent row is  shifted by 1 (last row should be (Z[-3],Z[-2],Z[-1]) (★★★)"
   ]
  },
  {
   "cell_type": "code",
   "execution_count": null,
   "id": "9e6a34f9",
   "metadata": {},
   "outputs": [],
   "source": [
    "ge.hint(76)"
   ]
  },
  {
   "cell_type": "code",
   "execution_count": null,
   "id": "99c673db",
   "metadata": {},
   "outputs": [],
   "source": []
  },
  {
   "cell_type": "code",
   "execution_count": null,
   "id": "58a99405",
   "metadata": {},
   "outputs": [],
   "source": [
    "ge.answer(76)"
   ]
  },
  {
   "cell_type": "markdown",
   "id": "8c2f3650",
   "metadata": {},
   "source": [
    "### 77. How to negate a boolean, or to change the sign of a float inplace? (★★★)"
   ]
  },
  {
   "cell_type": "code",
   "execution_count": null,
   "id": "ba61743b",
   "metadata": {},
   "outputs": [],
   "source": [
    "ge.hint(77)"
   ]
  },
  {
   "cell_type": "code",
   "execution_count": null,
   "id": "9d272414",
   "metadata": {},
   "outputs": [],
   "source": []
  },
  {
   "cell_type": "code",
   "execution_count": null,
   "id": "3b468b0f",
   "metadata": {},
   "outputs": [],
   "source": [
    "ge.answer(77)"
   ]
  },
  {
   "cell_type": "markdown",
   "id": "12200654",
   "metadata": {},
   "source": [
    "### 78. Consider 2 sets of points P0,P1 describing lines (2d) and a point p, how to compute distance from p to each line i (P0[i],P1[i])? (★★★)"
   ]
  },
  {
   "cell_type": "code",
   "execution_count": null,
   "id": "6e621096",
   "metadata": {},
   "outputs": [],
   "source": [
    "ge.hint(78)"
   ]
  },
  {
   "cell_type": "code",
   "execution_count": null,
   "id": "1db6a37f",
   "metadata": {},
   "outputs": [],
   "source": []
  },
  {
   "cell_type": "code",
   "execution_count": null,
   "id": "d2d6fdd8",
   "metadata": {},
   "outputs": [],
   "source": [
    "ge.answer(78)"
   ]
  },
  {
   "cell_type": "markdown",
   "id": "81d29725",
   "metadata": {},
   "source": [
    "### 79. Consider 2 sets of points P0,P1 describing lines (2d) and a set of points P, how to compute distance from each point j (P[j]) to each line i (P0[i],P1[i])? (★★★)"
   ]
  },
  {
   "cell_type": "code",
   "execution_count": null,
   "id": "a6d370e6",
   "metadata": {},
   "outputs": [],
   "source": [
    "ge.hint(79)"
   ]
  },
  {
   "cell_type": "code",
   "execution_count": null,
   "id": "7fcc7b94",
   "metadata": {},
   "outputs": [],
   "source": []
  },
  {
   "cell_type": "code",
   "execution_count": null,
   "id": "24138620",
   "metadata": {},
   "outputs": [],
   "source": [
    "ge.answer(79)"
   ]
  },
  {
   "cell_type": "markdown",
   "id": "2cd123ae",
   "metadata": {},
   "source": [
    "### 80. Consider an arbitrary array, write a function that extract a subpart with a fixed shape and centered on a given element (pad with a `fill` value when necessary) (★★★)"
   ]
  },
  {
   "cell_type": "code",
   "execution_count": null,
   "id": "0120a8de",
   "metadata": {},
   "outputs": [],
   "source": [
    "ge.hint(80)"
   ]
  },
  {
   "cell_type": "code",
   "execution_count": null,
   "id": "2f936f49",
   "metadata": {},
   "outputs": [],
   "source": []
  },
  {
   "cell_type": "code",
   "execution_count": null,
   "id": "68971f35",
   "metadata": {},
   "outputs": [],
   "source": [
    "ge.answer(80)"
   ]
  },
  {
   "cell_type": "markdown",
   "id": "95448e88",
   "metadata": {},
   "source": [
    "### 81. Consider an array Z = [1,2,3,4,5,6,7,8,9,10,11,12,13,14], how to generate an array R = [[1,2,3,4], [2,3,4,5], [3,4,5,6], ..., [11,12,13,14]]? (★★★)"
   ]
  },
  {
   "cell_type": "code",
   "execution_count": null,
   "id": "e069815c",
   "metadata": {},
   "outputs": [],
   "source": [
    "ge.hint(81)"
   ]
  },
  {
   "cell_type": "code",
   "execution_count": null,
   "id": "89450002",
   "metadata": {},
   "outputs": [],
   "source": []
  },
  {
   "cell_type": "code",
   "execution_count": null,
   "id": "dadef59e",
   "metadata": {},
   "outputs": [],
   "source": [
    "ge.answer(81)"
   ]
  },
  {
   "cell_type": "markdown",
   "id": "5c4772ec",
   "metadata": {},
   "source": [
    "### 82. Compute a matrix rank (★★★)"
   ]
  },
  {
   "cell_type": "code",
   "execution_count": null,
   "id": "0db317c5",
   "metadata": {},
   "outputs": [],
   "source": [
    "ge.hint(82)"
   ]
  },
  {
   "cell_type": "code",
   "execution_count": null,
   "id": "94558000",
   "metadata": {},
   "outputs": [],
   "source": []
  },
  {
   "cell_type": "code",
   "execution_count": null,
   "id": "8adb68bf",
   "metadata": {},
   "outputs": [],
   "source": [
    "ge.answer(82)"
   ]
  },
  {
   "cell_type": "markdown",
   "id": "6ebb184c",
   "metadata": {},
   "source": [
    "### 83. How to find the most frequent value in an array?"
   ]
  },
  {
   "cell_type": "code",
   "execution_count": null,
   "id": "01fd576c",
   "metadata": {},
   "outputs": [],
   "source": [
    "ge.hint(83)"
   ]
  },
  {
   "cell_type": "code",
   "execution_count": null,
   "id": "ffd9cdc2",
   "metadata": {},
   "outputs": [],
   "source": []
  },
  {
   "cell_type": "code",
   "execution_count": null,
   "id": "c5b51e6d",
   "metadata": {},
   "outputs": [],
   "source": [
    "ge.answer(83)"
   ]
  },
  {
   "cell_type": "markdown",
   "id": "3a5def2b",
   "metadata": {},
   "source": [
    "### 84. Extract all the contiguous 3x3 blocks from a random 10x10 matrix (★★★)"
   ]
  },
  {
   "cell_type": "code",
   "execution_count": null,
   "id": "e9fbd932",
   "metadata": {},
   "outputs": [],
   "source": [
    "ge.hint(84)"
   ]
  },
  {
   "cell_type": "code",
   "execution_count": null,
   "id": "696fdfb0",
   "metadata": {},
   "outputs": [],
   "source": []
  },
  {
   "cell_type": "code",
   "execution_count": null,
   "id": "4723f75e",
   "metadata": {},
   "outputs": [],
   "source": [
    "ge.answer(84)"
   ]
  },
  {
   "cell_type": "markdown",
   "id": "6af696f1",
   "metadata": {},
   "source": [
    "### 85. Create a 2D array subclass such that Z[i,j] == Z[j,i] (★★★)"
   ]
  },
  {
   "cell_type": "code",
   "execution_count": null,
   "id": "267870f8",
   "metadata": {},
   "outputs": [],
   "source": [
    "ge.hint(85)"
   ]
  },
  {
   "cell_type": "code",
   "execution_count": null,
   "id": "e0c9ef49",
   "metadata": {},
   "outputs": [],
   "source": []
  },
  {
   "cell_type": "code",
   "execution_count": null,
   "id": "b82a54e8",
   "metadata": {},
   "outputs": [],
   "source": [
    "ge.answer(85)"
   ]
  },
  {
   "cell_type": "markdown",
   "id": "f90ec4ed",
   "metadata": {},
   "source": [
    "### 86. Consider a set of p matrices wich shape (n,n) and a set of p vectors with shape (n,1). How to compute the sum of of the p matrix products at once? (result has shape (n,1)) (★★★)"
   ]
  },
  {
   "cell_type": "code",
   "execution_count": null,
   "id": "f30d4212",
   "metadata": {},
   "outputs": [],
   "source": [
    "ge.hint(86)"
   ]
  },
  {
   "cell_type": "code",
   "execution_count": null,
   "id": "1c2e3d91",
   "metadata": {},
   "outputs": [],
   "source": []
  },
  {
   "cell_type": "code",
   "execution_count": null,
   "id": "1a8d850d",
   "metadata": {},
   "outputs": [],
   "source": [
    "ge.answer(86)"
   ]
  },
  {
   "cell_type": "markdown",
   "id": "6cabef35",
   "metadata": {},
   "source": [
    "### 87. Consider a 16x16 array, how to get the block-sum (block size is 4x4)? (★★★)"
   ]
  },
  {
   "cell_type": "code",
   "execution_count": null,
   "id": "ddf7b401",
   "metadata": {},
   "outputs": [],
   "source": [
    "ge.hint(87)"
   ]
  },
  {
   "cell_type": "code",
   "execution_count": null,
   "id": "c211cd2c",
   "metadata": {},
   "outputs": [],
   "source": []
  },
  {
   "cell_type": "code",
   "execution_count": null,
   "id": "a71f4be4",
   "metadata": {},
   "outputs": [],
   "source": [
    "ge.answer(87)"
   ]
  },
  {
   "cell_type": "markdown",
   "id": "ab3a42a7",
   "metadata": {},
   "source": [
    "### 88. How to implement the Game of Life using numpy arrays? (★★★)"
   ]
  },
  {
   "cell_type": "code",
   "execution_count": null,
   "id": "b9387d3e",
   "metadata": {},
   "outputs": [],
   "source": [
    "ge.hint(88)"
   ]
  },
  {
   "cell_type": "code",
   "execution_count": null,
   "id": "6ab418fd",
   "metadata": {},
   "outputs": [],
   "source": []
  },
  {
   "cell_type": "code",
   "execution_count": null,
   "id": "d3ee9f2d",
   "metadata": {},
   "outputs": [],
   "source": [
    "ge.answer(88)"
   ]
  },
  {
   "cell_type": "markdown",
   "id": "ced814f6",
   "metadata": {},
   "source": [
    "### 89. How to get the n largest values of an array (★★★)"
   ]
  },
  {
   "cell_type": "code",
   "execution_count": null,
   "id": "c9e9e6a6",
   "metadata": {},
   "outputs": [],
   "source": [
    "ge.hint(89)"
   ]
  },
  {
   "cell_type": "code",
   "execution_count": null,
   "id": "21ccf7bd",
   "metadata": {},
   "outputs": [],
   "source": []
  },
  {
   "cell_type": "code",
   "execution_count": null,
   "id": "087eab40",
   "metadata": {},
   "outputs": [],
   "source": [
    "ge.answer(89)"
   ]
  },
  {
   "cell_type": "markdown",
   "id": "b201aa8d",
   "metadata": {},
   "source": [
    "### 90. Given an arbitrary number of vectors, build the cartesian product (every combinations of every item) (★★★)"
   ]
  },
  {
   "cell_type": "code",
   "execution_count": null,
   "id": "4cbb27e8",
   "metadata": {},
   "outputs": [],
   "source": [
    "ge.hint(90)"
   ]
  },
  {
   "cell_type": "code",
   "execution_count": null,
   "id": "b0fa603c",
   "metadata": {},
   "outputs": [],
   "source": []
  },
  {
   "cell_type": "code",
   "execution_count": null,
   "id": "a72394f3",
   "metadata": {},
   "outputs": [],
   "source": [
    "ge.answer(90)"
   ]
  },
  {
   "cell_type": "markdown",
   "id": "a237331f",
   "metadata": {},
   "source": [
    "### 91. How to create a record array from a regular array? (★★★)"
   ]
  },
  {
   "cell_type": "code",
   "execution_count": null,
   "id": "f64d04e2",
   "metadata": {},
   "outputs": [],
   "source": [
    "ge.hint(91)"
   ]
  },
  {
   "cell_type": "code",
   "execution_count": null,
   "id": "2e0bc711",
   "metadata": {},
   "outputs": [],
   "source": []
  },
  {
   "cell_type": "code",
   "execution_count": null,
   "id": "ac78577d",
   "metadata": {},
   "outputs": [],
   "source": [
    "ge.answer(91)"
   ]
  },
  {
   "cell_type": "markdown",
   "id": "60341a3d",
   "metadata": {},
   "source": [
    "### 92. Consider a large vector Z, compute Z to the power of 3 using 3 different methods (★★★)"
   ]
  },
  {
   "cell_type": "code",
   "execution_count": null,
   "id": "656dbeae",
   "metadata": {},
   "outputs": [],
   "source": [
    "ge.hint(92)"
   ]
  },
  {
   "cell_type": "code",
   "execution_count": null,
   "id": "a6e6233c",
   "metadata": {},
   "outputs": [],
   "source": []
  },
  {
   "cell_type": "code",
   "execution_count": null,
   "id": "30c9161a",
   "metadata": {},
   "outputs": [],
   "source": [
    "ge.answer(92)"
   ]
  },
  {
   "cell_type": "markdown",
   "id": "41ef7c78",
   "metadata": {},
   "source": [
    "### 93. Consider two arrays A and B of shape (8,3) and (2,2). How to find rows of A that contain elements of each row of B regardless of the order of the elements in B? (★★★)"
   ]
  },
  {
   "cell_type": "code",
   "execution_count": null,
   "id": "2212460f",
   "metadata": {},
   "outputs": [],
   "source": [
    "ge.hint(93)"
   ]
  },
  {
   "cell_type": "code",
   "execution_count": null,
   "id": "b57b9655",
   "metadata": {},
   "outputs": [],
   "source": []
  },
  {
   "cell_type": "code",
   "execution_count": null,
   "id": "9ef96423",
   "metadata": {},
   "outputs": [],
   "source": [
    "ge.answer(93)"
   ]
  },
  {
   "cell_type": "markdown",
   "id": "b51b0ce2",
   "metadata": {},
   "source": [
    "### 94. Considering a 10x3 matrix, extract rows with unequal values (e.g. [2,2,3]) (★★★)"
   ]
  },
  {
   "cell_type": "code",
   "execution_count": null,
   "id": "fe9d247a",
   "metadata": {},
   "outputs": [],
   "source": [
    "ge.hint(94)"
   ]
  },
  {
   "cell_type": "code",
   "execution_count": null,
   "id": "bddf27b5",
   "metadata": {},
   "outputs": [],
   "source": []
  },
  {
   "cell_type": "code",
   "execution_count": null,
   "id": "c1188791",
   "metadata": {},
   "outputs": [],
   "source": [
    "ge.answer(94)"
   ]
  },
  {
   "cell_type": "markdown",
   "id": "0b10c566",
   "metadata": {},
   "source": [
    "### 95. Convert a vector of ints into a matrix binary representation (★★★)"
   ]
  },
  {
   "cell_type": "code",
   "execution_count": null,
   "id": "c7240bea",
   "metadata": {},
   "outputs": [],
   "source": [
    "ge.hint(95)"
   ]
  },
  {
   "cell_type": "code",
   "execution_count": null,
   "id": "75e10219",
   "metadata": {},
   "outputs": [],
   "source": []
  },
  {
   "cell_type": "code",
   "execution_count": null,
   "id": "78239a07",
   "metadata": {},
   "outputs": [],
   "source": [
    "ge.answer(95)"
   ]
  },
  {
   "cell_type": "markdown",
   "id": "20d3c1b3",
   "metadata": {},
   "source": [
    "### 96. Given a two dimensional array, how to extract unique rows? (★★★)"
   ]
  },
  {
   "cell_type": "code",
   "execution_count": null,
   "id": "c801c2d2",
   "metadata": {},
   "outputs": [],
   "source": [
    "ge.hint(96)"
   ]
  },
  {
   "cell_type": "code",
   "execution_count": null,
   "id": "fee44fee",
   "metadata": {},
   "outputs": [],
   "source": []
  },
  {
   "cell_type": "code",
   "execution_count": null,
   "id": "2f97ec0c",
   "metadata": {},
   "outputs": [],
   "source": [
    "ge.answer(96)"
   ]
  },
  {
   "cell_type": "markdown",
   "id": "609945ab",
   "metadata": {},
   "source": [
    "### 97. Considering 2 vectors A & B, write the einsum equivalent of inner, outer, sum, and mul function (★★★)"
   ]
  },
  {
   "cell_type": "code",
   "execution_count": null,
   "id": "c2c4407f",
   "metadata": {},
   "outputs": [],
   "source": [
    "ge.hint(97)"
   ]
  },
  {
   "cell_type": "code",
   "execution_count": null,
   "id": "d25482ce",
   "metadata": {},
   "outputs": [],
   "source": []
  },
  {
   "cell_type": "code",
   "execution_count": null,
   "id": "799d56a6",
   "metadata": {},
   "outputs": [],
   "source": [
    "ge.answer(97)"
   ]
  },
  {
   "cell_type": "markdown",
   "id": "7af68c19",
   "metadata": {},
   "source": [
    "### 98. Considering a path described by two vectors (X,Y), how to sample it using equidistant samples (★★★)?"
   ]
  },
  {
   "cell_type": "code",
   "execution_count": null,
   "id": "d7bed0a6",
   "metadata": {},
   "outputs": [],
   "source": [
    "ge.hint(98)"
   ]
  },
  {
   "cell_type": "code",
   "execution_count": null,
   "id": "588a9f24",
   "metadata": {},
   "outputs": [],
   "source": []
  },
  {
   "cell_type": "code",
   "execution_count": null,
   "id": "b235667e",
   "metadata": {},
   "outputs": [],
   "source": [
    "ge.answer(98)"
   ]
  },
  {
   "cell_type": "markdown",
   "id": "ccd35712",
   "metadata": {},
   "source": [
    "### 99. Given an integer n and a 2D array X, select from X the rows which can be interpreted as draws from a multinomial distribution with n degrees, i.e., the rows which only contain integers and which sum to n. (★★★)"
   ]
  },
  {
   "cell_type": "code",
   "execution_count": null,
   "id": "288700ee",
   "metadata": {},
   "outputs": [],
   "source": [
    "ge.hint(99)"
   ]
  },
  {
   "cell_type": "code",
   "execution_count": null,
   "id": "7a0bc1c7",
   "metadata": {},
   "outputs": [],
   "source": []
  },
  {
   "cell_type": "code",
   "execution_count": null,
   "id": "44b12c8c",
   "metadata": {},
   "outputs": [],
   "source": [
    "ge.answer(99)"
   ]
  },
  {
   "cell_type": "markdown",
   "id": "d764e668",
   "metadata": {},
   "source": [
    "### 100. Compute bootstrapped 95% confidence intervals for the mean of a 1D array X (i.e., resample the elements of an array with replacement N times, compute the mean of each sample, and then compute percentiles over the means). (★★★)"
   ]
  },
  {
   "cell_type": "code",
   "execution_count": null,
   "id": "f4db0de0",
   "metadata": {},
   "outputs": [],
   "source": [
    "ge.hint(100)"
   ]
  },
  {
   "cell_type": "code",
   "execution_count": null,
   "id": "9dad800c",
   "metadata": {},
   "outputs": [],
   "source": []
  },
  {
   "cell_type": "code",
   "execution_count": null,
   "id": "8143fea2",
   "metadata": {},
   "outputs": [],
   "source": [
    "ge.answer(100)"
   ]
  }
 ],
 "metadata": {},
 "nbformat": 4,
 "nbformat_minor": 5
}
